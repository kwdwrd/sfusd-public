{
 "cells": [
  {
   "cell_type": "code",
   "execution_count": 1,
   "metadata": {},
   "outputs": [],
   "source": [
    "#\n",
    "# Data merger for CALPADS\n",
    "#\n",
    "\n",
    "import os\n",
    "import pandas as pd\n",
    "import re\n",
    "from tqdm import tqdm"
   ]
  },
  {
   "cell_type": "code",
   "execution_count": 20,
   "metadata": {},
   "outputs": [
    {
     "name": "stderr",
     "output_type": "stream",
     "text": [
      "  0%|          | 0/8 [00:00<?, ?it/s]"
     ]
    },
    {
     "name": "stderr",
     "output_type": "stream",
     "text": [
      "/opt/homebrew/lib/python3.11/site-packages/openpyxl/reader/workbook.py:118: UserWarning: Print area cannot be set to Defined name: 'CALPADS UPC Data Notes'!$2:$2.\n",
      "  warn(f\"Print area cannot be set to Defined name: {defn.value}.\")\n",
      "/opt/homebrew/lib/python3.11/site-packages/openpyxl/worksheet/header_footer.py:48: UserWarning: Cannot parse header or footer so it will be ignored\n",
      "  warn(\"\"\"Cannot parse header or footer so it will be ignored\"\"\")\n",
      "/opt/homebrew/lib/python3.11/site-packages/openpyxl/reader/workbook.py:118: UserWarning: Print area cannot be set to Defined name: 'CALPADS UPC Data Notes'!$2:$2.\n",
      "  warn(f\"Print area cannot be set to Defined name: {defn.value}.\")\n",
      " 12%|█▎        | 1/8 [00:01<00:10,  1.45s/it]/opt/homebrew/lib/python3.11/site-packages/openpyxl/worksheet/header_footer.py:48: UserWarning: Cannot parse header or footer so it will be ignored\n",
      "  warn(\"\"\"Cannot parse header or footer so it will be ignored\"\"\")\n",
      " 25%|██▌       | 2/8 [00:02<00:08,  1.40s/it]/opt/homebrew/lib/python3.11/site-packages/openpyxl/reader/workbook.py:118: UserWarning: Print area cannot be set to Defined name: 'CALPADS UPC Data Notes'!$2:$2.\n",
      "  warn(f\"Print area cannot be set to Defined name: {defn.value}.\")\n",
      "/opt/homebrew/lib/python3.11/site-packages/openpyxl/worksheet/header_footer.py:48: UserWarning: Cannot parse header or footer so it will be ignored\n",
      "  warn(\"\"\"Cannot parse header or footer so it will be ignored\"\"\")\n",
      "/opt/homebrew/lib/python3.11/site-packages/openpyxl/reader/workbook.py:118: UserWarning: Print area cannot be set to Defined name: 'CALPADS UPC Data Notes'!$2:$2.\n",
      "  warn(f\"Print area cannot be set to Defined name: {defn.value}.\")\n",
      " 50%|█████     | 4/8 [00:05<00:05,  1.33s/it]/opt/homebrew/lib/python3.11/site-packages/openpyxl/worksheet/header_footer.py:48: UserWarning: Cannot parse header or footer so it will be ignored\n",
      "  warn(\"\"\"Cannot parse header or footer so it will be ignored\"\"\")\n",
      " 62%|██████▎   | 5/8 [00:06<00:03,  1.33s/it]/opt/homebrew/lib/python3.11/site-packages/openpyxl/worksheet/header_footer.py:48: UserWarning: Cannot parse header or footer so it will be ignored\n",
      "  warn(\"\"\"Cannot parse header or footer so it will be ignored\"\"\")\n",
      " 75%|███████▌  | 6/8 [00:08<00:02,  1.34s/it]/opt/homebrew/lib/python3.11/site-packages/openpyxl/reader/workbook.py:118: UserWarning: Print area cannot be set to Defined name: 'CALPADS UPC Data Notes'!$2:$2.\n",
      "  warn(f\"Print area cannot be set to Defined name: {defn.value}.\")\n",
      "/opt/homebrew/lib/python3.11/site-packages/openpyxl/worksheet/header_footer.py:48: UserWarning: Cannot parse header or footer so it will be ignored\n",
      "  warn(\"\"\"Cannot parse header or footer so it will be ignored\"\"\")\n",
      "/opt/homebrew/lib/python3.11/site-packages/openpyxl/reader/workbook.py:118: UserWarning: Print area cannot be set to Defined name: 'CALPADS UPC Data Notes'!$2:$2.\n",
      "  warn(f\"Print area cannot be set to Defined name: {defn.value}.\")\n",
      "100%|██████████| 8/8 [00:09<00:00,  1.23s/it]\n"
     ]
    }
   ],
   "source": [
    "sheet_names = [\n",
    "    'LEA-Level CALPADS UPC Data',\n",
    "    'School-Level CALPADS UPC Data'\n",
    "]\n",
    "school_data_cols = {\n",
    "    'School Code': 'school_code',\n",
    "    'School Name': 'school_name',\n",
    "    'School Type': 'school_type',\n",
    "    'Low Grade':   'grade_low',\n",
    "    'High Grade':  'grade_high',\n",
    "}\n",
    "calpads_data_cols = {\n",
    "    'School Code':                            'school_code',\n",
    "    'Academic Year':                          'academic_year',\n",
    "    'Total Enrollment':                       'enrollment',\n",
    "    'Free & Reduced Meal Program':            'frpm_count',\n",
    "    'Foster':                                 'foster_count',\n",
    "    'Tribal Foster Youth':                    'foster_tribal_count',\n",
    "    'Homeless':                               'homeless_count',\n",
    "    'Migrant Program':                        'migrant_program_count',\n",
    "    'Direct Certification':                   'direct_certification_count',\n",
    "    'Unduplicated FRPM Eligible Count':       'frpm_eligible_count',\n",
    "    'English Learner (EL)':                   'english_learned_count',\n",
    "    'CALPADS Unduplicated Pupil Count (UPC)': 'unduplicated_count'\n",
    "}\n",
    "\n",
    "\n",
    "\n",
    "def load_sheet ( filename, sheet_name ):\n",
    "    sheet = pd.read_excel( filename, sheet_name )\n",
    "    sheet.columns = [ re.sub( r'\\s+', ' ', colname ) for colname in list( sheet.iloc[0] ) ]\n",
    "    sheet = sheet[sheet['County Name'] == 'San Francisco'].reset_index( drop = True )\n",
    "\n",
    "    return sheet\n",
    "\n",
    "\n",
    "\n",
    "raw_data_directory = '../raw/'\n",
    "all_school_data = pd.DataFrame()\n",
    "all_calpads_data = pd.DataFrame()\n",
    "for filename in tqdm( os.listdir( raw_data_directory ) ):\n",
    "    full_filename = f'{raw_data_directory}{filename}'\n",
    "\n",
    "    for sheet_name in sheet_names:\n",
    "        sheet = load_sheet( full_filename, sheet_name )\n",
    "\n",
    "        school_data = sheet[[ col for col in school_data_cols.keys() if col in sheet]].rename( columns = school_data_cols )\n",
    "        calpads_data = sheet[[ col for col in calpads_data_cols.keys() if col in sheet]].rename( columns = calpads_data_cols )\n",
    "\n",
    "        all_school_data = pd.concat(\n",
    "            [\n",
    "                all_school_data,\n",
    "                school_data\n",
    "            ],\n",
    "            axis = 0,\n",
    "            ignore_index = True\n",
    "        ).drop_duplicates()\n",
    "\n",
    "        all_calpads_data = pd.concat(\n",
    "            [\n",
    "                all_calpads_data,\n",
    "                calpads_data.assign( source_sheet = sheet_name )\n",
    "            ],\n",
    "            axis = 0,\n",
    "            ignore_index = True\n",
    "        )\n",
    "\n",
    "all_school_data = all_school_data[~pd.isnull( all_school_data.grade_low )]\n",
    "all_calpads_data = all_calpads_data.merge( all_school_data[['school_code']].drop_duplicates() )\n",
    "\n",
    "all_school_data.to_csv( './sfusd-school-codes.csv', index = False )\n",
    "all_calpads_data.to_csv( './sfusd-calpads-data.csv', index = False )"
   ]
  },
  {
   "cell_type": "code",
   "execution_count": null,
   "metadata": {},
   "outputs": [],
   "source": []
  }
 ],
 "metadata": {
  "kernelspec": {
   "display_name": "Python 3",
   "language": "python",
   "name": "python3"
  },
  "language_info": {
   "codemirror_mode": {
    "name": "ipython",
    "version": 3
   },
   "file_extension": ".py",
   "mimetype": "text/x-python",
   "name": "python",
   "nbconvert_exporter": "python",
   "pygments_lexer": "ipython3",
   "version": "3.11.11"
  }
 },
 "nbformat": 4,
 "nbformat_minor": 2
}
